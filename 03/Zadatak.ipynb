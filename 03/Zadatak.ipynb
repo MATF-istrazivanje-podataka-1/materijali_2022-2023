{
 "cells": [
  {
   "cell_type": "code",
   "execution_count": 1,
   "metadata": {
    "executionInfo": {
     "elapsed": 409,
     "status": "ok",
     "timestamp": 1679661210890,
     "user": {
      "displayName": "Marija Eric",
      "userId": "08710240490782266583"
     },
     "user_tz": -60
    },
    "id": "oUqfOtIf8qP1"
   },
   "outputs": [],
   "source": [
    "import pandas as pd\n",
    "import numpy as np"
   ]
  },
  {
   "cell_type": "markdown",
   "metadata": {
    "id": "d5ymqxOT8tAz"
   },
   "source": [
    "Na skupu bank.csv izvršiti sledece promene:"
   ]
  },
  {
   "cell_type": "code",
   "execution_count": 2,
   "metadata": {
    "colab": {
     "base_uri": "https://localhost:8080/",
     "height": 328
    },
    "executionInfo": {
     "elapsed": 1588,
     "status": "error",
     "timestamp": 1679661222853,
     "user": {
      "displayName": "Marija Eric",
      "userId": "08710240490782266583"
     },
     "user_tz": -60
    },
    "id": "MWmXcP6D8vvW",
    "outputId": "1d43efe4-cbdb-426a-8968-961482e079e5"
   },
   "outputs": [],
   "source": [
    "#Učitati skup 24-bank.csv\n",
    "data = pd.read_csv('24-bank.csv')"
   ]
  },
  {
   "cell_type": "code",
   "execution_count": 3,
   "metadata": {
    "executionInfo": {
     "elapsed": 21,
     "status": "aborted",
     "timestamp": 1679661222854,
     "user": {
      "displayName": "Marija Eric",
      "userId": "08710240490782266583"
     },
     "user_tz": -60
    },
    "id": "NxyqFxVQ88A1"
   },
   "outputs": [
    {
     "data": {
      "text/html": [
       "<div>\n",
       "<style scoped>\n",
       "    .dataframe tbody tr th:only-of-type {\n",
       "        vertical-align: middle;\n",
       "    }\n",
       "\n",
       "    .dataframe tbody tr th {\n",
       "        vertical-align: top;\n",
       "    }\n",
       "\n",
       "    .dataframe thead th {\n",
       "        text-align: right;\n",
       "    }\n",
       "</style>\n",
       "<table border=\"1\" class=\"dataframe\">\n",
       "  <thead>\n",
       "    <tr style=\"text-align: right;\">\n",
       "      <th></th>\n",
       "      <th>STAROST</th>\n",
       "      <th>POSAO</th>\n",
       "      <th>BRACNO_STANJE</th>\n",
       "      <th>OBRAZOVANJE</th>\n",
       "      <th>SREDNJE_GOD_STANJE_EUR</th>\n",
       "      <th>STAMBENI_KREDIT</th>\n",
       "      <th>LICNI_KREDIT</th>\n",
       "      <th>KONTAKT</th>\n",
       "      <th>DUZINA_RAZGOVORA_SEC</th>\n",
       "      <th>BROJ_RAZGOVORA</th>\n",
       "      <th>OROCENA_STEDNJA</th>\n",
       "    </tr>\n",
       "  </thead>\n",
       "  <tbody>\n",
       "    <tr>\n",
       "      <th>0</th>\n",
       "      <td>30</td>\n",
       "      <td>nezaposlen</td>\n",
       "      <td>u_braku</td>\n",
       "      <td>osnevne</td>\n",
       "      <td>1787</td>\n",
       "      <td>ne</td>\n",
       "      <td>ne</td>\n",
       "      <td>mobilni</td>\n",
       "      <td>79</td>\n",
       "      <td>1</td>\n",
       "      <td>ne</td>\n",
       "    </tr>\n",
       "    <tr>\n",
       "      <th>1</th>\n",
       "      <td>33</td>\n",
       "      <td>usluge</td>\n",
       "      <td>u_braku</td>\n",
       "      <td>srednje</td>\n",
       "      <td>4789</td>\n",
       "      <td>da</td>\n",
       "      <td>da</td>\n",
       "      <td>mobilni</td>\n",
       "      <td>220</td>\n",
       "      <td>1</td>\n",
       "      <td>ne</td>\n",
       "    </tr>\n",
       "    <tr>\n",
       "      <th>2</th>\n",
       "      <td>35</td>\n",
       "      <td>rukovodstvo</td>\n",
       "      <td>samac</td>\n",
       "      <td>visoko</td>\n",
       "      <td>1350</td>\n",
       "      <td>da</td>\n",
       "      <td>ne</td>\n",
       "      <td>mobilni</td>\n",
       "      <td>185</td>\n",
       "      <td>1</td>\n",
       "      <td>ne</td>\n",
       "    </tr>\n",
       "    <tr>\n",
       "      <th>3</th>\n",
       "      <td>30</td>\n",
       "      <td>rukovodstvo</td>\n",
       "      <td>u_braku</td>\n",
       "      <td>visoko</td>\n",
       "      <td>1476</td>\n",
       "      <td>da</td>\n",
       "      <td>da</td>\n",
       "      <td>nepoznato</td>\n",
       "      <td>199</td>\n",
       "      <td>4</td>\n",
       "      <td>ne</td>\n",
       "    </tr>\n",
       "    <tr>\n",
       "      <th>4</th>\n",
       "      <td>59</td>\n",
       "      <td>manuelni_poslovi</td>\n",
       "      <td>u_braku</td>\n",
       "      <td>srednje</td>\n",
       "      <td>0</td>\n",
       "      <td>da</td>\n",
       "      <td>ne</td>\n",
       "      <td>nepoznato</td>\n",
       "      <td>226</td>\n",
       "      <td>1</td>\n",
       "      <td>ne</td>\n",
       "    </tr>\n",
       "  </tbody>\n",
       "</table>\n",
       "</div>"
      ],
      "text/plain": [
       "   STAROST             POSAO BRACNO_STANJE OBRAZOVANJE  \\\n",
       "0       30        nezaposlen       u_braku     osnevne   \n",
       "1       33            usluge       u_braku     srednje   \n",
       "2       35       rukovodstvo         samac      visoko   \n",
       "3       30       rukovodstvo       u_braku      visoko   \n",
       "4       59  manuelni_poslovi       u_braku     srednje   \n",
       "\n",
       "   SREDNJE_GOD_STANJE_EUR STAMBENI_KREDIT LICNI_KREDIT    KONTAKT  \\\n",
       "0                    1787              ne           ne    mobilni   \n",
       "1                    4789              da           da    mobilni   \n",
       "2                    1350              da           ne    mobilni   \n",
       "3                    1476              da           da  nepoznato   \n",
       "4                       0              da           ne  nepoznato   \n",
       "\n",
       "   DUZINA_RAZGOVORA_SEC  BROJ_RAZGOVORA OROCENA_STEDNJA  \n",
       "0                    79               1              ne  \n",
       "1                   220               1              ne  \n",
       "2                   185               1              ne  \n",
       "3                   199               4              ne  \n",
       "4                   226               1              ne  "
      ]
     },
     "execution_count": 3,
     "metadata": {},
     "output_type": "execute_result"
    }
   ],
   "source": [
    "# Ispisati prvih 5 instanci\n",
    "data.head()"
   ]
  },
  {
   "cell_type": "code",
   "execution_count": 4,
   "metadata": {
    "colab": {
     "base_uri": "https://localhost:8080/",
     "height": 165
    },
    "executionInfo": {
     "elapsed": 22,
     "status": "error",
     "timestamp": 1679661222855,
     "user": {
      "displayName": "Marija Eric",
      "userId": "08710240490782266583"
     },
     "user_tz": -60
    },
    "id": "irFwFZTK885_",
    "outputId": "02c33ebd-dd42-4c15-c19a-5411cf50172a"
   },
   "outputs": [
    {
     "data": {
      "text/html": [
       "<div>\n",
       "<style scoped>\n",
       "    .dataframe tbody tr th:only-of-type {\n",
       "        vertical-align: middle;\n",
       "    }\n",
       "\n",
       "    .dataframe tbody tr th {\n",
       "        vertical-align: top;\n",
       "    }\n",
       "\n",
       "    .dataframe thead th {\n",
       "        text-align: right;\n",
       "    }\n",
       "</style>\n",
       "<table border=\"1\" class=\"dataframe\">\n",
       "  <thead>\n",
       "    <tr style=\"text-align: right;\">\n",
       "      <th></th>\n",
       "      <th>STAROST</th>\n",
       "      <th>SREDNJE_GOD_STANJE_EUR</th>\n",
       "      <th>DUZINA_RAZGOVORA_SEC</th>\n",
       "      <th>BROJ_RAZGOVORA</th>\n",
       "    </tr>\n",
       "  </thead>\n",
       "  <tbody>\n",
       "    <tr>\n",
       "      <th>count</th>\n",
       "      <td>4521.000000</td>\n",
       "      <td>4521.000000</td>\n",
       "      <td>4521.000000</td>\n",
       "      <td>4521.000000</td>\n",
       "    </tr>\n",
       "    <tr>\n",
       "      <th>mean</th>\n",
       "      <td>41.170095</td>\n",
       "      <td>1422.657819</td>\n",
       "      <td>263.961292</td>\n",
       "      <td>2.793630</td>\n",
       "    </tr>\n",
       "    <tr>\n",
       "      <th>std</th>\n",
       "      <td>10.576211</td>\n",
       "      <td>3009.638142</td>\n",
       "      <td>259.856633</td>\n",
       "      <td>3.109807</td>\n",
       "    </tr>\n",
       "    <tr>\n",
       "      <th>min</th>\n",
       "      <td>19.000000</td>\n",
       "      <td>-3313.000000</td>\n",
       "      <td>4.000000</td>\n",
       "      <td>1.000000</td>\n",
       "    </tr>\n",
       "    <tr>\n",
       "      <th>25%</th>\n",
       "      <td>33.000000</td>\n",
       "      <td>69.000000</td>\n",
       "      <td>104.000000</td>\n",
       "      <td>1.000000</td>\n",
       "    </tr>\n",
       "    <tr>\n",
       "      <th>50%</th>\n",
       "      <td>39.000000</td>\n",
       "      <td>444.000000</td>\n",
       "      <td>185.000000</td>\n",
       "      <td>2.000000</td>\n",
       "    </tr>\n",
       "    <tr>\n",
       "      <th>75%</th>\n",
       "      <td>49.000000</td>\n",
       "      <td>1480.000000</td>\n",
       "      <td>329.000000</td>\n",
       "      <td>3.000000</td>\n",
       "    </tr>\n",
       "    <tr>\n",
       "      <th>max</th>\n",
       "      <td>87.000000</td>\n",
       "      <td>71188.000000</td>\n",
       "      <td>3025.000000</td>\n",
       "      <td>50.000000</td>\n",
       "    </tr>\n",
       "  </tbody>\n",
       "</table>\n",
       "</div>"
      ],
      "text/plain": [
       "           STAROST  SREDNJE_GOD_STANJE_EUR  DUZINA_RAZGOVORA_SEC  \\\n",
       "count  4521.000000             4521.000000           4521.000000   \n",
       "mean     41.170095             1422.657819            263.961292   \n",
       "std      10.576211             3009.638142            259.856633   \n",
       "min      19.000000            -3313.000000              4.000000   \n",
       "25%      33.000000               69.000000            104.000000   \n",
       "50%      39.000000              444.000000            185.000000   \n",
       "75%      49.000000             1480.000000            329.000000   \n",
       "max      87.000000            71188.000000           3025.000000   \n",
       "\n",
       "       BROJ_RAZGOVORA  \n",
       "count     4521.000000  \n",
       "mean         2.793630  \n",
       "std          3.109807  \n",
       "min          1.000000  \n",
       "25%          1.000000  \n",
       "50%          2.000000  \n",
       "75%          3.000000  \n",
       "max         50.000000  "
      ]
     },
     "execution_count": 4,
     "metadata": {},
     "output_type": "execute_result"
    }
   ],
   "source": [
    "data.describe()"
   ]
  },
  {
   "cell_type": "code",
   "execution_count": null,
   "metadata": {
    "id": "hZTXTEV-9A-O"
   },
   "outputs": [],
   "source": [
    "# Eliminisati instance koje imaju negativnu vrednost u atributu srednje_god_stanje_eur."
   ]
  },
  {
   "cell_type": "code",
   "execution_count": 8,
   "metadata": {
    "id": "KdINoJT89GSp"
   },
   "outputs": [],
   "source": [
    "data.replace(data['SREDNJE_GOD_STANJE_EUR'] < 0, np.nan, inplace=True)\n",
    "data.dropna(inplace=True)"
   ]
  },
  {
   "cell_type": "code",
   "execution_count": 10,
   "metadata": {
    "id": "m6gkEiAyU5k5"
   },
   "outputs": [
    {
     "data": {
      "text/html": [
       "<div>\n",
       "<style scoped>\n",
       "    .dataframe tbody tr th:only-of-type {\n",
       "        vertical-align: middle;\n",
       "    }\n",
       "\n",
       "    .dataframe tbody tr th {\n",
       "        vertical-align: top;\n",
       "    }\n",
       "\n",
       "    .dataframe thead th {\n",
       "        text-align: right;\n",
       "    }\n",
       "</style>\n",
       "<table border=\"1\" class=\"dataframe\">\n",
       "  <thead>\n",
       "    <tr style=\"text-align: right;\">\n",
       "      <th></th>\n",
       "      <th>STAROST</th>\n",
       "      <th>SREDNJE_GOD_STANJE_EUR</th>\n",
       "      <th>DUZINA_RAZGOVORA_SEC</th>\n",
       "      <th>BROJ_RAZGOVORA</th>\n",
       "    </tr>\n",
       "  </thead>\n",
       "  <tbody>\n",
       "    <tr>\n",
       "      <th>count</th>\n",
       "      <td>4521.000000</td>\n",
       "      <td>4521.000000</td>\n",
       "      <td>4521.000000</td>\n",
       "      <td>4521.000000</td>\n",
       "    </tr>\n",
       "    <tr>\n",
       "      <th>mean</th>\n",
       "      <td>41.170095</td>\n",
       "      <td>1422.657819</td>\n",
       "      <td>263.961292</td>\n",
       "      <td>2.793630</td>\n",
       "    </tr>\n",
       "    <tr>\n",
       "      <th>std</th>\n",
       "      <td>10.576211</td>\n",
       "      <td>3009.638142</td>\n",
       "      <td>259.856633</td>\n",
       "      <td>3.109807</td>\n",
       "    </tr>\n",
       "    <tr>\n",
       "      <th>min</th>\n",
       "      <td>19.000000</td>\n",
       "      <td>-3313.000000</td>\n",
       "      <td>4.000000</td>\n",
       "      <td>1.000000</td>\n",
       "    </tr>\n",
       "    <tr>\n",
       "      <th>25%</th>\n",
       "      <td>33.000000</td>\n",
       "      <td>69.000000</td>\n",
       "      <td>104.000000</td>\n",
       "      <td>1.000000</td>\n",
       "    </tr>\n",
       "    <tr>\n",
       "      <th>50%</th>\n",
       "      <td>39.000000</td>\n",
       "      <td>444.000000</td>\n",
       "      <td>185.000000</td>\n",
       "      <td>2.000000</td>\n",
       "    </tr>\n",
       "    <tr>\n",
       "      <th>75%</th>\n",
       "      <td>49.000000</td>\n",
       "      <td>1480.000000</td>\n",
       "      <td>329.000000</td>\n",
       "      <td>3.000000</td>\n",
       "    </tr>\n",
       "    <tr>\n",
       "      <th>max</th>\n",
       "      <td>87.000000</td>\n",
       "      <td>71188.000000</td>\n",
       "      <td>3025.000000</td>\n",
       "      <td>50.000000</td>\n",
       "    </tr>\n",
       "  </tbody>\n",
       "</table>\n",
       "</div>"
      ],
      "text/plain": [
       "           STAROST  SREDNJE_GOD_STANJE_EUR  DUZINA_RAZGOVORA_SEC  \\\n",
       "count  4521.000000             4521.000000           4521.000000   \n",
       "mean     41.170095             1422.657819            263.961292   \n",
       "std      10.576211             3009.638142            259.856633   \n",
       "min      19.000000            -3313.000000              4.000000   \n",
       "25%      33.000000               69.000000            104.000000   \n",
       "50%      39.000000              444.000000            185.000000   \n",
       "75%      49.000000             1480.000000            329.000000   \n",
       "max      87.000000            71188.000000           3025.000000   \n",
       "\n",
       "       BROJ_RAZGOVORA  \n",
       "count     4521.000000  \n",
       "mean         2.793630  \n",
       "std          3.109807  \n",
       "min          1.000000  \n",
       "25%          1.000000  \n",
       "50%          2.000000  \n",
       "75%          3.000000  \n",
       "max         50.000000  "
      ]
     },
     "execution_count": 10,
     "metadata": {},
     "output_type": "execute_result"
    }
   ],
   "source": [
    "data.describe()"
   ]
  },
  {
   "cell_type": "code",
   "execution_count": null,
   "metadata": {
    "id": "MWEMKOEN98-i"
   },
   "outputs": [],
   "source": [
    "# Vrednosti atributa starost podeliti u 5 kategorija jednake širine. HINT: Koristiti pd.cut(....)"
   ]
  },
  {
   "cell_type": "code",
   "execution_count": 13,
   "metadata": {
    "colab": {
     "base_uri": "https://localhost:8080/",
     "height": 284
    },
    "executionInfo": {
     "elapsed": 682,
     "status": "ok",
     "timestamp": 1678063856800,
     "user": {
      "displayName": "Marija Eric",
      "userId": "08710240490782266583"
     },
     "user_tz": -60
    },
    "id": "LEwWTLX9YrHf",
    "outputId": "20166860-6091-41a6-bc40-29a2be125a45"
   },
   "outputs": [],
   "source": [
    "data['STAROST'] = pd.cut(data['STAROST'], bins=5, labels=[1, 2, 3, 4, 5])"
   ]
  },
  {
   "cell_type": "code",
   "execution_count": 16,
   "metadata": {
    "id": "4A_WSDBC-WgS"
   },
   "outputs": [
    {
     "data": {
      "text/plain": [
       "array(['u_braku', 'samac', 'razveden(a)'], dtype=object)"
      ]
     },
     "execution_count": 16,
     "metadata": {},
     "output_type": "execute_result"
    }
   ],
   "source": [
    "# Promeniti kategorije atributa bracno_stanje u u_braku i nije_u_braku.\n",
    "unique_values = data['BRACNO_STANJE'].unique()\n",
    "unique_values"
   ]
  },
  {
   "cell_type": "code",
   "execution_count": 17,
   "metadata": {},
   "outputs": [],
   "source": [
    "data['BRACNO_STANJE'].replace(unique_values[1:], 'nije_u_braku', inplace=True)"
   ]
  },
  {
   "cell_type": "code",
   "execution_count": 24,
   "metadata": {
    "id": "jr71wABB-bG_"
   },
   "outputs": [],
   "source": [
    "# Standardizovati numeričke atribute\n",
    "from sklearn.preprocessing import StandardScaler\n",
    "scaler = StandardScaler()\n",
    "# scaler.fit_transform(data)   # greska, jer prosledjujemo sve atribute, a treba samo "
   ]
  },
  {
   "cell_type": "code",
   "execution_count": 33,
   "metadata": {
    "id": "Q4p3-BG1V3uV"
   },
   "outputs": [],
   "source": [
    "# izdvajanje numerickih atributa\n",
    "num_attr = data.dtypes[data.dtypes == 'int64'].index # hocemo da izdvojimo 3 atributa tipa int64\n",
    "data[num_attr] = scaler.fit_transform(data[num_attr])"
   ]
  },
  {
   "cell_type": "code",
   "execution_count": 34,
   "metadata": {
    "id": "5eXw7SCtVjts"
   },
   "outputs": [
    {
     "data": {
      "text/html": [
       "<div>\n",
       "<style scoped>\n",
       "    .dataframe tbody tr th:only-of-type {\n",
       "        vertical-align: middle;\n",
       "    }\n",
       "\n",
       "    .dataframe tbody tr th {\n",
       "        vertical-align: top;\n",
       "    }\n",
       "\n",
       "    .dataframe thead th {\n",
       "        text-align: right;\n",
       "    }\n",
       "</style>\n",
       "<table border=\"1\" class=\"dataframe\">\n",
       "  <thead>\n",
       "    <tr style=\"text-align: right;\">\n",
       "      <th></th>\n",
       "      <th>SREDNJE_GOD_STANJE_EUR</th>\n",
       "      <th>DUZINA_RAZGOVORA_SEC</th>\n",
       "      <th>BROJ_RAZGOVORA</th>\n",
       "    </tr>\n",
       "  </thead>\n",
       "  <tbody>\n",
       "    <tr>\n",
       "      <th>count</th>\n",
       "      <td>4.521000e+03</td>\n",
       "      <td>4.521000e+03</td>\n",
       "      <td>4.521000e+03</td>\n",
       "    </tr>\n",
       "    <tr>\n",
       "      <th>mean</th>\n",
       "      <td>-1.571649e-17</td>\n",
       "      <td>-7.622500e-17</td>\n",
       "      <td>-6.286598e-18</td>\n",
       "    </tr>\n",
       "    <tr>\n",
       "      <th>std</th>\n",
       "      <td>1.000111e+00</td>\n",
       "      <td>1.000111e+00</td>\n",
       "      <td>1.000111e+00</td>\n",
       "    </tr>\n",
       "    <tr>\n",
       "      <th>min</th>\n",
       "      <td>-1.573671e+00</td>\n",
       "      <td>-1.000513e+00</td>\n",
       "      <td>-5.768295e-01</td>\n",
       "    </tr>\n",
       "    <tr>\n",
       "      <th>25%</th>\n",
       "      <td>-4.498240e-01</td>\n",
       "      <td>-6.156433e-01</td>\n",
       "      <td>-5.768295e-01</td>\n",
       "    </tr>\n",
       "    <tr>\n",
       "      <th>50%</th>\n",
       "      <td>-3.252105e-01</td>\n",
       "      <td>-3.038984e-01</td>\n",
       "      <td>-2.552305e-01</td>\n",
       "    </tr>\n",
       "    <tr>\n",
       "      <th>75%</th>\n",
       "      <td>1.905496e-02</td>\n",
       "      <td>2.503146e-01</td>\n",
       "      <td>6.636847e-02</td>\n",
       "    </tr>\n",
       "    <tr>\n",
       "      <th>max</th>\n",
       "      <td>2.318321e+01</td>\n",
       "      <td>1.062641e+01</td>\n",
       "      <td>1.518152e+01</td>\n",
       "    </tr>\n",
       "  </tbody>\n",
       "</table>\n",
       "</div>"
      ],
      "text/plain": [
       "       SREDNJE_GOD_STANJE_EUR  DUZINA_RAZGOVORA_SEC  BROJ_RAZGOVORA\n",
       "count            4.521000e+03          4.521000e+03    4.521000e+03\n",
       "mean            -1.571649e-17         -7.622500e-17   -6.286598e-18\n",
       "std              1.000111e+00          1.000111e+00    1.000111e+00\n",
       "min             -1.573671e+00         -1.000513e+00   -5.768295e-01\n",
       "25%             -4.498240e-01         -6.156433e-01   -5.768295e-01\n",
       "50%             -3.252105e-01         -3.038984e-01   -2.552305e-01\n",
       "75%              1.905496e-02          2.503146e-01    6.636847e-02\n",
       "max              2.318321e+01          1.062641e+01    1.518152e+01"
      ]
     },
     "execution_count": 34,
     "metadata": {},
     "output_type": "execute_result"
    }
   ],
   "source": [
    "data.describe()"
   ]
  }
 ],
 "metadata": {
  "colab": {
   "authorship_tag": "ABX9TyPSUBzA75t4E8B1S/92Xt7n",
   "provenance": []
  },
  "kernelspec": {
   "display_name": "Python 3 (ipykernel)",
   "language": "python",
   "name": "python3"
  },
  "language_info": {
   "codemirror_mode": {
    "name": "ipython",
    "version": 3
   },
   "file_extension": ".py",
   "mimetype": "text/x-python",
   "name": "python",
   "nbconvert_exporter": "python",
   "pygments_lexer": "ipython3",
   "version": "3.11.2"
  }
 },
 "nbformat": 4,
 "nbformat_minor": 1
}
